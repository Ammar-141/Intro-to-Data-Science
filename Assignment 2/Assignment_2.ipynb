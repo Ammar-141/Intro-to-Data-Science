{
  "nbformat": 4,
  "nbformat_minor": 0,
  "metadata": {
    "colab": {
      "provenance": []
    },
    "kernelspec": {
      "name": "python3",
      "display_name": "Python 3"
    },
    "language_info": {
      "name": "python"
    }
  },
  "cells": [
    {
      "cell_type": "code",
      "source": [
        "# 30 September\n",
        "# CSC461 – Assignment2 – Regular Expressions\n",
        "# Muhammad Ammar Mukhtar\n",
        "# FA21-BSE-141 (Section C)\n",
        "# In this assignment we have practised regular expression i.e. reducing noice from data\n",
        "\n",
        "with open('example-text.txt', 'r') as file:\n",
        "    text = file.read()\n",
        "\n",
        "    words = text.split()\n",
        "\n",
        "    for word in words:\n",
        "        print(word)\n"
      ],
      "metadata": {
        "id": "wISYnwsXfBjP"
      },
      "execution_count": null,
      "outputs": []
    },
    {
      "cell_type": "code",
      "source": [
        "import re\n",
        "\n",
        "with open('example-text.txt', 'r') as file:\n",
        "\n",
        "    text = file.read()\n",
        "\n",
        "    capital_words = re.findall(r'[A-Z][a-zA-Z]*', text)\n",
        "\n",
        "    for word in capital_words:\n",
        "        print(word)\n"
      ],
      "metadata": {
        "id": "KW7_aPZlkZ40"
      },
      "execution_count": null,
      "outputs": []
    },
    {
      "cell_type": "code",
      "source": [
        "def remove_special_characters(text):\n",
        "\n",
        "    special_characters_pattern = r'[^A-Za-z0-9\\s]'\n",
        "    cleaned_text = re.sub(special_characters_pattern, '', text)\n",
        "\n",
        "    return cleaned_text\n",
        "\n",
        "\n",
        "with open('example-text.txt', 'r') as file:\n",
        "\n",
        "    text = file.read()\n",
        "\n",
        "    cleaned_text = remove_special_characters(text)\n",
        "\n",
        "    words = cleaned_text.split()\n",
        "\n",
        "    five_letter_words = [word for word in words if len(word) == 5]\n",
        "\n",
        "    for word in five_letter_words:\n",
        "        print(word)\n"
      ],
      "metadata": {
        "id": "cesCO0DQrlyy"
      },
      "execution_count": null,
      "outputs": []
    },
    {
      "cell_type": "code",
      "source": [
        "import re\n",
        "\n",
        "with open('example-text.txt', 'r') as file:\n",
        "\n",
        "    text = file.read()\n",
        "\n",
        "    quoted_words = re.findall(r'\"(.*?)\"', text)\n",
        "\n",
        "    for word in quoted_words:\n",
        "        print(word)\n"
      ],
      "metadata": {
        "id": "bcUUM33pq5ZO"
      },
      "execution_count": null,
      "outputs": []
    },
    {
      "cell_type": "code",
      "source": [
        "with open('example-text.txt', 'r') as file:\n",
        "\n",
        "    text = file.read()\n",
        "\n",
        "    def extract_vowels(text):\n",
        "        vowels = \"AEIOUaeiou\"\n",
        "\n",
        "        return [char for char in text if char in vowels]\n",
        "\n",
        "    vowel_list = extract_vowels(text)\n",
        "\n",
        "    for vowel in vowel_list:\n",
        "        print(vowel)\n"
      ],
      "metadata": {
        "id": "54mywNH7QR8X"
      },
      "execution_count": null,
      "outputs": []
    },
    {
      "cell_type": "code",
      "source": [
        "import re\n",
        "\n",
        "with open('example-text.txt', 'r') as file:\n",
        "\n",
        "    text = file.read()\n",
        "\n",
        "    three_letter_words_with_e = re.findall(r'\\w{3}e', text)\n",
        "\n",
        "    for word in three_letter_words_with_e:\n",
        "        print(word)\n"
      ],
      "metadata": {
        "id": "iNfyD20bQ68Z"
      },
      "execution_count": null,
      "outputs": []
    },
    {
      "cell_type": "code",
      "source": [
        "import re\n",
        "\n",
        "# Open the text file in read mode\n",
        "with open('example-text.txt', 'r') as file:\n",
        "    # Read the contents of the file\n",
        "    text = file.read()\n",
        "\n",
        "    # Use a regular expression to find words starting and ending with 'b'\n",
        "    words_starting_and_ending_with_b = re.findall(r'[bB]\\w*b', text)\n",
        "\n",
        "    # Print or process the list of words\n",
        "    for word in words_starting_and_ending_with_b:\n",
        "        print(word)\n"
      ],
      "metadata": {
        "id": "3zwkPKYyRWKi"
      },
      "execution_count": null,
      "outputs": []
    },
    {
      "cell_type": "code",
      "source": [
        "def remove_special_characters(text):\n",
        "\n",
        "    special_characters_pattern = r'[^A-Za-z0-9\\s]'\n",
        "    cleaned_text = re.sub(special_characters_pattern, '', text)\n",
        "\n",
        "    return cleaned_text\n",
        "\n",
        "\n",
        "with open('example-text.txt', 'r') as file:\n",
        "\n",
        "    text = file.read()\n",
        "\n",
        "    cleaned_text = remove_special_characters(text)\n",
        "\n",
        "    print(cleaned_text)"
      ],
      "metadata": {
        "id": "u0HPZhdXSWCn"
      },
      "execution_count": null,
      "outputs": []
    },
    {
      "cell_type": "code",
      "source": [
        "import re\n",
        "\n",
        "def replace_nt_with_not(match):\n",
        "    return match.group(1) + ' not'\n",
        "\n",
        "with open('example-text.txt', 'r') as file:\n",
        "\n",
        "    text = file.read()\n",
        "\n",
        "    modified_text = re.sub(r'(\\w+)n\\'t\\b', replace_nt_with_not, text)\n",
        "\n",
        "    print(modified_text)\n"
      ],
      "metadata": {
        "id": "1IH8yj8BT6Ee"
      },
      "execution_count": null,
      "outputs": []
    },
    {
      "cell_type": "code",
      "source": [
        "\n",
        "with open('example-text.txt', 'r') as file:\n",
        "\n",
        "    text = file.read()\n",
        "\n",
        "    text_without_newlines = text.replace('\\n', '')\n",
        "\n",
        "    print(text_without_newlines)\n"
      ],
      "metadata": {
        "id": "amxa-_VEWV7D"
      },
      "execution_count": null,
      "outputs": []
    }
  ]
}